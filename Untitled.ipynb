{
 "cells": [
  {
   "cell_type": "code",
   "execution_count": 1,
   "id": "15cdb20b",
   "metadata": {},
   "outputs": [],
   "source": [
    "import pandas as pd\n",
    "from string import punctuation"
   ]
  },
  {
   "cell_type": "code",
   "execution_count": 2,
   "id": "af09d4dc",
   "metadata": {},
   "outputs": [],
   "source": [
    "df=pd.read_csv(r\"E:\\10.python\\NLP\\New folder\\dataset (1).csv\")"
   ]
  },
  {
   "cell_type": "code",
   "execution_count": 3,
   "id": "df6d96fd",
   "metadata": {},
   "outputs": [],
   "source": [
    "# df[\"language\"].value_counts()"
   ]
  },
  {
   "cell_type": "code",
   "execution_count": 4,
   "id": "589d1942",
   "metadata": {},
   "outputs": [
    {
     "data": {
      "text/html": [
       "<div>\n",
       "<style scoped>\n",
       "    .dataframe tbody tr th:only-of-type {\n",
       "        vertical-align: middle;\n",
       "    }\n",
       "\n",
       "    .dataframe tbody tr th {\n",
       "        vertical-align: top;\n",
       "    }\n",
       "\n",
       "    .dataframe thead th {\n",
       "        text-align: right;\n",
       "    }\n",
       "</style>\n",
       "<table border=\"1\" class=\"dataframe\">\n",
       "  <thead>\n",
       "    <tr style=\"text-align: right;\">\n",
       "      <th></th>\n",
       "      <th>Text</th>\n",
       "      <th>language</th>\n",
       "    </tr>\n",
       "  </thead>\n",
       "  <tbody>\n",
       "    <tr>\n",
       "      <th>0</th>\n",
       "      <td>klement gottwaldi surnukeha palsameeriti ning ...</td>\n",
       "      <td>Estonian</td>\n",
       "    </tr>\n",
       "    <tr>\n",
       "      <th>1</th>\n",
       "      <td>sebes joseph pereira thomas  på eng the jesuit...</td>\n",
       "      <td>Swedish</td>\n",
       "    </tr>\n",
       "    <tr>\n",
       "      <th>2</th>\n",
       "      <td>ถนนเจริญกรุง อักษรโรมัน thanon charoen krung เ...</td>\n",
       "      <td>Thai</td>\n",
       "    </tr>\n",
       "    <tr>\n",
       "      <th>3</th>\n",
       "      <td>விசாகப்பட்டினம் தமிழ்ச்சங்கத்தை இந்துப் பத்திர...</td>\n",
       "      <td>Tamil</td>\n",
       "    </tr>\n",
       "    <tr>\n",
       "      <th>4</th>\n",
       "      <td>de spons behoort tot het geslacht haliclona en...</td>\n",
       "      <td>Dutch</td>\n",
       "    </tr>\n",
       "    <tr>\n",
       "      <th>...</th>\n",
       "      <td>...</td>\n",
       "      <td>...</td>\n",
       "    </tr>\n",
       "    <tr>\n",
       "      <th>21995</th>\n",
       "      <td>hors du terrain les années  et  sont des année...</td>\n",
       "      <td>French</td>\n",
       "    </tr>\n",
       "    <tr>\n",
       "      <th>21996</th>\n",
       "      <td>ใน พศ  หลักจากที่เสด็จประพาสแหลมมลายู ชวา อินเ...</td>\n",
       "      <td>Thai</td>\n",
       "    </tr>\n",
       "    <tr>\n",
       "      <th>21997</th>\n",
       "      <td>con motivo de la celebración del septuagésimoq...</td>\n",
       "      <td>Spanish</td>\n",
       "    </tr>\n",
       "    <tr>\n",
       "      <th>21998</th>\n",
       "      <td>年月，當時還只有歲的她在美國出道，以mai-k名義推出首張英文《baby i like》，由...</td>\n",
       "      <td>Chinese</td>\n",
       "    </tr>\n",
       "    <tr>\n",
       "      <th>21999</th>\n",
       "      <td>aprilie sonda spațială messenger a nasa și-a ...</td>\n",
       "      <td>Romanian</td>\n",
       "    </tr>\n",
       "  </tbody>\n",
       "</table>\n",
       "<p>22000 rows × 2 columns</p>\n",
       "</div>"
      ],
      "text/plain": [
       "                                                    Text  language\n",
       "0      klement gottwaldi surnukeha palsameeriti ning ...  Estonian\n",
       "1      sebes joseph pereira thomas  på eng the jesuit...   Swedish\n",
       "2      ถนนเจริญกรุง อักษรโรมัน thanon charoen krung เ...      Thai\n",
       "3      விசாகப்பட்டினம் தமிழ்ச்சங்கத்தை இந்துப் பத்திர...     Tamil\n",
       "4      de spons behoort tot het geslacht haliclona en...     Dutch\n",
       "...                                                  ...       ...\n",
       "21995  hors du terrain les années  et  sont des année...    French\n",
       "21996  ใน พศ  หลักจากที่เสด็จประพาสแหลมมลายู ชวา อินเ...      Thai\n",
       "21997  con motivo de la celebración del septuagésimoq...   Spanish\n",
       "21998  年月，當時還只有歲的她在美國出道，以mai-k名義推出首張英文《baby i like》，由...   Chinese\n",
       "21999   aprilie sonda spațială messenger a nasa și-a ...  Romanian\n",
       "\n",
       "[22000 rows x 2 columns]"
      ]
     },
     "execution_count": 4,
     "metadata": {},
     "output_type": "execute_result"
    }
   ],
   "source": [
    "df"
   ]
  },
  {
   "cell_type": "code",
   "execution_count": 5,
   "id": "4fc2b734",
   "metadata": {},
   "outputs": [
    {
     "data": {
      "text/plain": [
       "'!\"#$%&\\'()*+,-./:;<=>?@[\\\\]^_`{|}~'"
      ]
     },
     "execution_count": 5,
     "metadata": {},
     "output_type": "execute_result"
    }
   ],
   "source": [
    "punctuation"
   ]
  },
  {
   "cell_type": "code",
   "execution_count": 6,
   "id": "b4f36cb3",
   "metadata": {},
   "outputs": [],
   "source": [
    "pun='!\"#$%&\\'()*+,-./:;<=>?@[\\\\]^_`{|}~'\n",
    "list_pun=list(pun)"
   ]
  },
  {
   "cell_type": "code",
   "execution_count": 7,
   "id": "e5139f5b",
   "metadata": {},
   "outputs": [],
   "source": [
    "# df"
   ]
  },
  {
   "cell_type": "code",
   "execution_count": 8,
   "id": "a376c747",
   "metadata": {},
   "outputs": [],
   "source": [
    "# t=\"sanket @#$\"\n",
    "pun='!\"#$%&\\'()*+,-./:;<=>?@[\\\\]^_`{|}~'\n",
    "list_pun=list(pun)\n",
    "def punctuation_remove(text):\n",
    "    result=\"\"\n",
    "    for j in range(len(pun)):\n",
    "        for i in list_pun:\n",
    "            if i in text:\n",
    "                result=text.replace(i,\" \")\n",
    "                text=result\n",
    "            else:\n",
    "                return text\n",
    "    return result.strip()\n",
    "# punctuation_remove()\n",
    "df[\"Text\"]=df[\"Text\"].apply(punctuation_remove)"
   ]
  },
  {
   "cell_type": "code",
   "execution_count": 9,
   "id": "466e25cd",
   "metadata": {},
   "outputs": [],
   "source": [
    "# Preprocessing"
   ]
  },
  {
   "cell_type": "code",
   "execution_count": 10,
   "id": "266cef85",
   "metadata": {},
   "outputs": [],
   "source": [
    "#train test split"
   ]
  },
  {
   "cell_type": "code",
   "execution_count": 11,
   "id": "ffcea43b",
   "metadata": {},
   "outputs": [],
   "source": [
    "from sklearn.model_selection import train_test_split"
   ]
  },
  {
   "cell_type": "code",
   "execution_count": 12,
   "id": "aebcf62f",
   "metadata": {},
   "outputs": [],
   "source": [
    "x_train,x_test,y_train,y_test=train_test_split(df[\"Text\"],df[\"language\"],random_state=42,stratify=df[\"language\"])"
   ]
  },
  {
   "cell_type": "code",
   "execution_count": 13,
   "id": "d8b722ac",
   "metadata": {},
   "outputs": [],
   "source": [
    "# Tokenizesation"
   ]
  },
  {
   "cell_type": "code",
   "execution_count": 14,
   "id": "5d9e171f",
   "metadata": {},
   "outputs": [],
   "source": [
    "from sklearn.feature_extraction.text import CountVectorizer,TfidfVectorizer"
   ]
  },
  {
   "cell_type": "code",
   "execution_count": 15,
   "id": "c1be0743",
   "metadata": {},
   "outputs": [],
   "source": [
    "cv=CountVectorizer(max_features=1000,max_df=0.95)\n",
    "a=cv.fit_transform(x_train)\n",
    "b=cv.transform(x_test)"
   ]
  },
  {
   "cell_type": "code",
   "execution_count": 346,
   "id": "c9684be0",
   "metadata": {},
   "outputs": [
    {
     "data": {
      "text/plain": [
       "array([[0, 0, 0, ..., 0, 0, 0],\n",
       "       [0, 0, 0, ..., 0, 0, 0],\n",
       "       [0, 0, 0, ..., 0, 0, 0],\n",
       "       ...,\n",
       "       [0, 0, 0, ..., 0, 0, 0],\n",
       "       [0, 0, 0, ..., 0, 0, 0],\n",
       "       [0, 0, 0, ..., 0, 0, 0]], dtype=int64)"
      ]
     },
     "execution_count": 346,
     "metadata": {},
     "output_type": "execute_result"
    }
   ],
   "source": [
    "a.A"
   ]
  },
  {
   "cell_type": "code",
   "execution_count": 347,
   "id": "448eb710",
   "metadata": {},
   "outputs": [],
   "source": [
    "cv.get_stop_words()"
   ]
  },
  {
   "cell_type": "code",
   "execution_count": 348,
   "id": "df5fd597",
   "metadata": {},
   "outputs": [],
   "source": [
    "# cv.get_feature_names()"
   ]
  },
  {
   "cell_type": "code",
   "execution_count": 16,
   "id": "6b25342c",
   "metadata": {},
   "outputs": [],
   "source": [
    "from sklearn.naive_bayes import MultinomialNB,GaussianNB,BernoulliNB\n",
    "from sklearn.metrics import accuracy_score,classification_report,confusion_matrix"
   ]
  },
  {
   "cell_type": "code",
   "execution_count": 17,
   "id": "c5018e96",
   "metadata": {},
   "outputs": [
    {
     "data": {
      "text/plain": [
       "MultinomialNB()"
      ]
     },
     "execution_count": 17,
     "metadata": {},
     "output_type": "execute_result"
    }
   ],
   "source": [
    "mb=MultinomialNB()\n",
    "mb.fit(a.A,y_train)"
   ]
  },
  {
   "cell_type": "code",
   "execution_count": 18,
   "id": "8da9ddd3",
   "metadata": {},
   "outputs": [
    {
     "data": {
      "text/plain": [
       "0.8912727272727273"
      ]
     },
     "execution_count": 18,
     "metadata": {},
     "output_type": "execute_result"
    }
   ],
   "source": [
    "y_pred=mb.predict(b.A)\n",
    "\n",
    "accuracy_score(y_test,y_pred)"
   ]
  },
  {
   "cell_type": "code",
   "execution_count": 19,
   "id": "d540801d",
   "metadata": {},
   "outputs": [
    {
     "data": {
      "text/plain": [
       "array(['Romanian', 'Hindi', 'Indonesian', ..., 'Turkish', 'Latin',\n",
       "       'Portugese'], dtype='<U10')"
      ]
     },
     "execution_count": 19,
     "metadata": {},
     "output_type": "execute_result"
    }
   ],
   "source": [
    "y_pred"
   ]
  },
  {
   "cell_type": "code",
   "execution_count": 20,
   "id": "f85b9aa3",
   "metadata": {},
   "outputs": [],
   "source": [
    "cl=classification_report(y_test,y_pred)\n",
    "# print(cl)"
   ]
  },
  {
   "cell_type": "code",
   "execution_count": 21,
   "id": "9ee01bfc",
   "metadata": {},
   "outputs": [],
   "source": [
    "cn=confusion_matrix(y_test,y_pred)\n",
    "# cn"
   ]
  },
  {
   "cell_type": "markdown",
   "id": "d6937b2b",
   "metadata": {},
   "source": [
    "# GaussianNB"
   ]
  },
  {
   "cell_type": "code",
   "execution_count": 22,
   "id": "04cc0070",
   "metadata": {},
   "outputs": [
    {
     "data": {
      "text/plain": [
       "GaussianNB()"
      ]
     },
     "execution_count": 22,
     "metadata": {},
     "output_type": "execute_result"
    }
   ],
   "source": [
    "gnb=GaussianNB()\n",
    "gnb.fit(a.A,y_train)"
   ]
  },
  {
   "cell_type": "code",
   "execution_count": 23,
   "id": "4f5dfe77",
   "metadata": {},
   "outputs": [
    {
     "data": {
      "text/plain": [
       "0.8867272727272727"
      ]
     },
     "execution_count": 23,
     "metadata": {},
     "output_type": "execute_result"
    }
   ],
   "source": [
    "y_pred=gnb.predict(b.A)\n",
    "\n",
    "accuracy_score(y_test,y_pred)"
   ]
  },
  {
   "cell_type": "code",
   "execution_count": 24,
   "id": "eddc7ef2",
   "metadata": {},
   "outputs": [
    {
     "data": {
      "text/plain": [
       "BernoulliNB()"
      ]
     },
     "execution_count": 24,
     "metadata": {},
     "output_type": "execute_result"
    }
   ],
   "source": [
    "bnb=BernoulliNB()\n",
    "bnb.fit(a.A,y_train)"
   ]
  },
  {
   "cell_type": "code",
   "execution_count": 25,
   "id": "54b7f387",
   "metadata": {},
   "outputs": [
    {
     "data": {
      "text/plain": [
       "0.9141818181818182"
      ]
     },
     "execution_count": 25,
     "metadata": {},
     "output_type": "execute_result"
    }
   ],
   "source": [
    "y_pred=bnb.predict(b.A)\n",
    "\n",
    "accuracy_score(y_test,y_pred)"
   ]
  },
  {
   "cell_type": "code",
   "execution_count": null,
   "id": "af58719b",
   "metadata": {},
   "outputs": [],
   "source": []
  },
  {
   "cell_type": "code",
   "execution_count": null,
   "id": "946e2b54",
   "metadata": {},
   "outputs": [],
   "source": []
  },
  {
   "cell_type": "code",
   "execution_count": null,
   "id": "b254e7f0",
   "metadata": {},
   "outputs": [],
   "source": []
  },
  {
   "cell_type": "code",
   "execution_count": null,
   "id": "a8f2b857",
   "metadata": {},
   "outputs": [],
   "source": []
  },
  {
   "cell_type": "markdown",
   "id": "d481afd5",
   "metadata": {},
   "source": [
    "# TfidfVectorizer"
   ]
  },
  {
   "cell_type": "code",
   "execution_count": 26,
   "id": "e12c4f0a",
   "metadata": {},
   "outputs": [],
   "source": [
    "tf=TfidfVectorizer(max_features=1000,max_df=0.95)\n",
    "c=tf.fit_transform(x_train)\n",
    "d=tf.transform(x_test)"
   ]
  },
  {
   "cell_type": "markdown",
   "id": "86b65498",
   "metadata": {},
   "source": [
    "# MultinomialNB"
   ]
  },
  {
   "cell_type": "code",
   "execution_count": 27,
   "id": "e5af36e4",
   "metadata": {},
   "outputs": [
    {
     "data": {
      "text/plain": [
       "MultinomialNB()"
      ]
     },
     "execution_count": 27,
     "metadata": {},
     "output_type": "execute_result"
    }
   ],
   "source": [
    "mb_tf=MultinomialNB()\n",
    "mb_tf.fit(c.A,y_train)"
   ]
  },
  {
   "cell_type": "code",
   "execution_count": 28,
   "id": "aa3ad1a2",
   "metadata": {},
   "outputs": [
    {
     "data": {
      "text/plain": [
       "0.8916363636363637"
      ]
     },
     "execution_count": 28,
     "metadata": {},
     "output_type": "execute_result"
    }
   ],
   "source": [
    "y_pred=mb_tf.predict(d.A)\n",
    "\n",
    "accuracy_score(y_test,y_pred)"
   ]
  },
  {
   "cell_type": "markdown",
   "id": "fc35a237",
   "metadata": {},
   "source": [
    "# GaussianNB"
   ]
  },
  {
   "cell_type": "code",
   "execution_count": 29,
   "id": "ac4d4e05",
   "metadata": {},
   "outputs": [
    {
     "data": {
      "text/plain": [
       "GaussianNB()"
      ]
     },
     "execution_count": 29,
     "metadata": {},
     "output_type": "execute_result"
    }
   ],
   "source": [
    "gnb=GaussianNB()\n",
    "gnb.fit(c.A,y_train)"
   ]
  },
  {
   "cell_type": "code",
   "execution_count": 30,
   "id": "66a0b640",
   "metadata": {},
   "outputs": [
    {
     "data": {
      "text/plain": [
       "0.8867272727272727"
      ]
     },
     "execution_count": 30,
     "metadata": {},
     "output_type": "execute_result"
    }
   ],
   "source": [
    "y_pred=gnb.predict(d.A)\n",
    "\n",
    "accuracy_score(y_test,y_pred)"
   ]
  },
  {
   "cell_type": "markdown",
   "id": "cb81066a",
   "metadata": {},
   "source": [
    "# BernoulliNB"
   ]
  },
  {
   "cell_type": "code",
   "execution_count": 31,
   "id": "e7ddc816",
   "metadata": {},
   "outputs": [
    {
     "data": {
      "text/plain": [
       "BernoulliNB()"
      ]
     },
     "execution_count": 31,
     "metadata": {},
     "output_type": "execute_result"
    }
   ],
   "source": [
    "bnb=BernoulliNB()\n",
    "bnb.fit(c.A,y_train)"
   ]
  },
  {
   "cell_type": "code",
   "execution_count": 32,
   "id": "a4b91d53",
   "metadata": {},
   "outputs": [
    {
     "data": {
      "text/plain": [
       "0.9141818181818182"
      ]
     },
     "execution_count": 32,
     "metadata": {},
     "output_type": "execute_result"
    }
   ],
   "source": [
    "y_pred=bnb.predict(d.A)\n",
    "\n",
    "accuracy_score(y_test,y_pred)"
   ]
  },
  {
   "cell_type": "code",
   "execution_count": 33,
   "id": "95838b85",
   "metadata": {},
   "outputs": [
    {
     "data": {
      "text/plain": [
       "array(['Romanian', 'Hindi', 'Indonesian', ..., 'Turkish', 'Latin',\n",
       "       'Portugese'], dtype='<U10')"
      ]
     },
     "execution_count": 33,
     "metadata": {},
     "output_type": "execute_result"
    }
   ],
   "source": [
    "y_pred"
   ]
  },
  {
   "cell_type": "code",
   "execution_count": 34,
   "id": "ff6a3d30",
   "metadata": {},
   "outputs": [],
   "source": [
    "result=pd.DataFrame()"
   ]
  },
  {
   "cell_type": "code",
   "execution_count": 35,
   "id": "4a3c19b3",
   "metadata": {},
   "outputs": [],
   "source": [
    "result[\"y_test\"]=y_test"
   ]
  },
  {
   "cell_type": "code",
   "execution_count": 36,
   "id": "ee639434",
   "metadata": {},
   "outputs": [],
   "source": [
    "result[\"y_pred\"]=y_pred"
   ]
  },
  {
   "cell_type": "code",
   "execution_count": 37,
   "id": "64dff67d",
   "metadata": {},
   "outputs": [
    {
     "data": {
      "text/html": [
       "<div>\n",
       "<style scoped>\n",
       "    .dataframe tbody tr th:only-of-type {\n",
       "        vertical-align: middle;\n",
       "    }\n",
       "\n",
       "    .dataframe tbody tr th {\n",
       "        vertical-align: top;\n",
       "    }\n",
       "\n",
       "    .dataframe thead th {\n",
       "        text-align: right;\n",
       "    }\n",
       "</style>\n",
       "<table border=\"1\" class=\"dataframe\">\n",
       "  <thead>\n",
       "    <tr style=\"text-align: right;\">\n",
       "      <th></th>\n",
       "      <th>y_test</th>\n",
       "      <th>y_pred</th>\n",
       "    </tr>\n",
       "  </thead>\n",
       "  <tbody>\n",
       "    <tr>\n",
       "      <th>281</th>\n",
       "      <td>Romanian</td>\n",
       "      <td>Romanian</td>\n",
       "    </tr>\n",
       "    <tr>\n",
       "      <th>11559</th>\n",
       "      <td>Hindi</td>\n",
       "      <td>Hindi</td>\n",
       "    </tr>\n",
       "    <tr>\n",
       "      <th>11484</th>\n",
       "      <td>Indonesian</td>\n",
       "      <td>Indonesian</td>\n",
       "    </tr>\n",
       "    <tr>\n",
       "      <th>16688</th>\n",
       "      <td>Japanese</td>\n",
       "      <td>Japanese</td>\n",
       "    </tr>\n",
       "    <tr>\n",
       "      <th>10432</th>\n",
       "      <td>Arabic</td>\n",
       "      <td>Arabic</td>\n",
       "    </tr>\n",
       "    <tr>\n",
       "      <th>...</th>\n",
       "      <td>...</td>\n",
       "      <td>...</td>\n",
       "    </tr>\n",
       "    <tr>\n",
       "      <th>1711</th>\n",
       "      <td>Latin</td>\n",
       "      <td>Chinese</td>\n",
       "    </tr>\n",
       "    <tr>\n",
       "      <th>17169</th>\n",
       "      <td>Urdu</td>\n",
       "      <td>Urdu</td>\n",
       "    </tr>\n",
       "    <tr>\n",
       "      <th>19033</th>\n",
       "      <td>Turkish</td>\n",
       "      <td>Turkish</td>\n",
       "    </tr>\n",
       "    <tr>\n",
       "      <th>5758</th>\n",
       "      <td>Latin</td>\n",
       "      <td>Latin</td>\n",
       "    </tr>\n",
       "    <tr>\n",
       "      <th>16947</th>\n",
       "      <td>Portugese</td>\n",
       "      <td>Portugese</td>\n",
       "    </tr>\n",
       "  </tbody>\n",
       "</table>\n",
       "<p>5500 rows × 2 columns</p>\n",
       "</div>"
      ],
      "text/plain": [
       "           y_test      y_pred\n",
       "281      Romanian    Romanian\n",
       "11559       Hindi       Hindi\n",
       "11484  Indonesian  Indonesian\n",
       "16688    Japanese    Japanese\n",
       "10432      Arabic      Arabic\n",
       "...           ...         ...\n",
       "1711        Latin     Chinese\n",
       "17169        Urdu        Urdu\n",
       "19033     Turkish     Turkish\n",
       "5758        Latin       Latin\n",
       "16947   Portugese   Portugese\n",
       "\n",
       "[5500 rows x 2 columns]"
      ]
     },
     "execution_count": 37,
     "metadata": {},
     "output_type": "execute_result"
    }
   ],
   "source": [
    "result"
   ]
  },
  {
   "cell_type": "code",
   "execution_count": 38,
   "id": "6a526947",
   "metadata": {},
   "outputs": [],
   "source": [
    "def language_detector(text):\n",
    "    result1=cv.transform([string])\n",
    "    y_pred=mb_tf.predict(result1.A)\n",
    "    return f\"Your typeing language ::: {y_pred[0]} \""
   ]
  },
  {
   "cell_type": "code",
   "execution_count": 39,
   "id": "1fc6c8bc",
   "metadata": {},
   "outputs": [
    {
     "data": {
      "text/plain": [
       "'Your typeing language ::: English '"
      ]
     },
     "execution_count": 39,
     "metadata": {},
     "output_type": "execute_result"
    }
   ],
   "source": [
    "string=\"my name is sanket.my village name ozar.my country name is india. i love my india\"\n",
    "language_detector(string)"
   ]
  },
  {
   "cell_type": "code",
   "execution_count": 40,
   "id": "b8d3f58b",
   "metadata": {},
   "outputs": [
    {
     "data": {
      "text/plain": [
       "'Your typeing language ::: Hindi '"
      ]
     },
     "execution_count": 40,
     "metadata": {},
     "output_type": "execute_result"
    }
   ],
   "source": [
    "string=\"मेरा नाम संकेत है। मेरे गांव का नाम ओजर है। मेरे देश का नाम भारत है\" #hindi\n",
    "language_detector(string)"
   ]
  },
  {
   "cell_type": "code",
   "execution_count": 41,
   "id": "84e8d5c8",
   "metadata": {},
   "outputs": [
    {
     "data": {
      "text/plain": [
       "'Your typeing language ::: Arabic '"
      ]
     },
     "execution_count": 41,
     "metadata": {},
     "output_type": "execute_result"
    }
   ],
   "source": [
    "string=\"اسمي sanket ، اسم قريتي ozar ، اسم بلدي الهند\"  #arebic\n",
    "language_detector(string)"
   ]
  },
  {
   "cell_type": "code",
   "execution_count": 42,
   "id": "d9b0fd7e",
   "metadata": {},
   "outputs": [
    {
     "data": {
      "text/plain": [
       "'Your typeing language ::: Arabic '"
      ]
     },
     "execution_count": 42,
     "metadata": {},
     "output_type": "execute_result"
    }
   ],
   "source": [
    "striing=\"mi nombre es. el nombre de mi pueblo es. el nombre de mi país es \" #spanish\n",
    "language_detector(string)"
   ]
  },
  {
   "cell_type": "code",
   "execution_count": 43,
   "id": "fe956a2c",
   "metadata": {},
   "outputs": [
    {
     "data": {
      "text/plain": [
       "'Your typeing language ::: Urdu '"
      ]
     },
     "execution_count": 43,
     "metadata": {},
     "output_type": "execute_result"
    }
   ],
   "source": [
    "string=\"میرا نام سنکیت ہے۔میرے گاؤں کا نام اوزر۔میرے ملک کا نام انڈیا ہے۔\" #Urdu\n",
    "language_detector(string)"
   ]
  },
  {
   "cell_type": "code",
   "execution_count": 44,
   "id": "8b96db4a",
   "metadata": {},
   "outputs": [
    {
     "data": {
      "text/plain": [
       "'Your typeing language ::: French '"
      ]
     },
     "execution_count": 44,
     "metadata": {},
     "output_type": "execute_result"
    }
   ],
   "source": [
    "string=\"mon nom est sanket.mon nom de village ozar.mon nom de pays est l'inde\" # French\n",
    "language_detector(string)"
   ]
  },
  {
   "cell_type": "code",
   "execution_count": 45,
   "id": "252521aa",
   "metadata": {},
   "outputs": [
    {
     "data": {
      "text/plain": [
       "'Your typeing language ::: Thai '"
      ]
     },
     "execution_count": 45,
     "metadata": {},
     "output_type": "execute_result"
    }
   ],
   "source": [
    "string=\"ฉันชื่อ sanket.my ชื่อหมู่บ้าน ozar.ประเทศของฉันชื่ออินเดีย\"  # Thai\n",
    "language_detector(string)"
   ]
  },
  {
   "cell_type": "code",
   "execution_count": 46,
   "id": "6fed3157",
   "metadata": {},
   "outputs": [
    {
     "data": {
      "text/plain": [
       "'Your typeing language ::: Dutch '"
      ]
     },
     "execution_count": 46,
     "metadata": {},
     "output_type": "execute_result"
    }
   ],
   "source": [
    "string=\"mijn naam is sanket.mijn dorpsnaam ozar.mijn landsnaam is india\"  # Dutch\n",
    "language_detector(string)"
   ]
  },
  {
   "cell_type": "code",
   "execution_count": 47,
   "id": "640e5c3a",
   "metadata": {},
   "outputs": [
    {
     "data": {
      "text/plain": [
       "'Your typeing language ::: Arabic '"
      ]
     },
     "execution_count": 47,
     "metadata": {},
     "output_type": "execute_result"
    }
   ],
   "source": [
    "string=\"내 이름은 입니다.내 마을 이름은 입니다.내 국가\" # Korean\n",
    "language_detector(string)"
   ]
  },
  {
   "cell_type": "code",
   "execution_count": 331,
   "id": "692ee806",
   "metadata": {},
   "outputs": [
    {
     "data": {
      "text/plain": [
       "'Your typeing language ::: Indonesian '"
      ]
     },
     "execution_count": 331,
     "metadata": {},
     "output_type": "execute_result"
    }
   ],
   "source": [
    "string=\"nama saya sanket.nama desa saya ozar.nama negara saya adalah india\" #Indonesian \n",
    "language_detector(string)"
   ]
  },
  {
   "cell_type": "code",
   "execution_count": 48,
   "id": "8efbc420",
   "metadata": {},
   "outputs": [],
   "source": [
    "import pickle"
   ]
  },
  {
   "cell_type": "code",
   "execution_count": 49,
   "id": "9c8d67a4",
   "metadata": {},
   "outputs": [],
   "source": [
    "f=open(\"Langmodel.pkl\",'wb')\n",
    "pickle.dump(mb_tf,f)\n",
    "f.close()"
   ]
  },
  {
   "cell_type": "code",
   "execution_count": 50,
   "id": "276ef157",
   "metadata": {},
   "outputs": [],
   "source": [
    "f=open(\"countvector.pkl\",'wb')\n",
    "pickle.dump(cv,f)\n",
    "f.close()"
   ]
  },
  {
   "cell_type": "code",
   "execution_count": null,
   "id": "642ed324",
   "metadata": {},
   "outputs": [],
   "source": []
  }
 ],
 "metadata": {
  "kernelspec": {
   "display_name": "Python 3 (ipykernel)",
   "language": "python",
   "name": "python3"
  },
  "language_info": {
   "codemirror_mode": {
    "name": "ipython",
    "version": 3
   },
   "file_extension": ".py",
   "mimetype": "text/x-python",
   "name": "python",
   "nbconvert_exporter": "python",
   "pygments_lexer": "ipython3",
   "version": "3.10.1"
  }
 },
 "nbformat": 4,
 "nbformat_minor": 5
}
